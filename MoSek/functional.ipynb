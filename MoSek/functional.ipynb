{
 "cells": [
  {
   "cell_type": "code",
   "execution_count": null,
   "metadata": {},
   "outputs": [],
   "source": [
    "import numpy as np\n",
    "\n",
    "\n",
    "def sigmoid(x):\n",
    "    return 1/(1 + np.exp(-x))\n",
    "\n",
    "def sigmoid_prime(x):\n",
    "    s = sigmoid(x)\n",
    "    return s * (1 - s)\n",
    "\n",
    "def tanh(x):\n",
    "    return (np.exp(2*x)-1)/(np.exp(2*x)+1)\n",
    "\n",
    "def tanh_prime(x):\n",
    "    return 1-tanh(x)^2\n",
    "\n",
    "def hard_tanh(x):\n",
    "    return np.maximum(np.minimum(x,1),-1)\n",
    "def hard_tanh_prime(x):\n",
    "    return 1*(x > -1 and x <1)\n",
    "def relu(x):\n",
    "    return x*(x > 0)\n",
    "    \n",
    "def relu_prime(x):\n",
    "    return 1*(x > 0)\n",
    "\n",
    "\n",
    "def leaky_relu(x, alpha):\n",
    "    return x*(x > 0) + alpha*x*(x <= 0)\n",
    "\n",
    "\n",
    "def leaky_relu_prime(x, alpha):\n",
    "    return 1*(x > 0) + alpha*(x <= 0)"
   ]
  }
 ],
 "metadata": {
  "kernelspec": {
   "display_name": "Python 3",
   "language": "python",
   "name": "python3"
  },
  "language_info": {
   "codemirror_mode": {
    "name": "ipython",
    "version": 3
   },
   "file_extension": ".py",
   "mimetype": "text/x-python",
   "name": "python",
   "nbconvert_exporter": "python",
   "pygments_lexer": "ipython3",
   "version": "3.8.5"
  }
 },
 "nbformat": 4,
 "nbformat_minor": 4
}
