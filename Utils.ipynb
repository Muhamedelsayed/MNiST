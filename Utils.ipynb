{
 "cells": [
  {
   "cell_type": "code",
   "execution_count": 4,
   "metadata": {},
   "outputs": [],
   "source": [
    "import numpy as np, pandas as pd\n",
    "import sys\n",
    "\n",
    "def zero_pad(X, pad_width, dims):\n",
    "    \"\"\"\n",
    "    Pads the given array X with zeroes at the both end of given dims.\n",
    "    Args:\n",
    "        X: numpy.ndarray.\n",
    "        pad_width: int, width of the padding.\n",
    "        dims: int or tuple, dimensions to be padded.\n",
    "    Returns:\n",
    "        X_padded: numpy.ndarray, zero padded X.\n",
    "    \"\"\"\n",
    "    dims = (dims) if isinstance(dims, int) else dims\n",
    "    pad = [(0, 0) if idx not in dims else (pad_width, pad_width)\n",
    "           for idx in range(len(X.shape))]\n",
    "    X_padded = np.pad(X, pad, 'constant')\n",
    "    return X_padded\n",
    "\n",
    "\n",
    "def load_data(filename):\n",
    "    data = pd.read_csv(filename,low_memory=False, header=None)\n",
    "    data = np.asarray(data)\n",
    "    y=data[1:,0]\n",
    "    x=data[1:,1:]\n",
    "    x_3d=np.reshape(x,(x.shape[0],28,28))  \n",
    "    return x,y,x_3d\n",
    "\n"
   ]
  },
  {
   "cell_type": "code",
   "execution_count": null,
   "metadata": {},
   "outputs": [],
   "source": []
  }
 ],
 "metadata": {
  "kernelspec": {
   "display_name": "Python 3",
   "language": "python",
   "name": "python3"
  },
  "language_info": {
   "codemirror_mode": {
    "name": "ipython",
    "version": 3
   },
   "file_extension": ".py",
   "mimetype": "text/x-python",
   "name": "python",
   "nbconvert_exporter": "python",
   "pygments_lexer": "ipython3",
   "version": "3.8.3"
  }
 },
 "nbformat": 4,
 "nbformat_minor": 4
}
